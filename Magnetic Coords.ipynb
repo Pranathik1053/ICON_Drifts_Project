{
 "cells": [
  {
   "cell_type": "code",
   "execution_count": 3,
   "id": "984116d1",
   "metadata": {},
   "outputs": [
    {
     "name": "stderr",
     "output_type": "stream",
     "text": [
      "C:\\Users\\pkoll\\AppData\\Local\\Temp\\ipykernel_13088\\312763924.py:16: MatplotlibDeprecationWarning: The seaborn styles shipped by Matplotlib are deprecated since 3.6, as they no longer correspond to the styles shipped by seaborn. However, they will remain available as 'seaborn-v0_8-<style>'. Alternatively, directly use the seaborn API instead.\n",
      "  plt.style.use('seaborn')\n"
     ]
    }
   ],
   "source": [
    "%matplotlib notebook\n",
    "import numpy as np\n",
    "import matplotlib.pyplot as plt\n",
    "import matplotlib as mpl\n",
    "import pandas as pd\n",
    "import xarray as xr\n",
    "import math as math\n",
    "from scipy.optimize import curve_fit\n",
    "import seaborn as sns\n",
    "import random as random\n",
    "\n",
    "\n",
    "from netCDF4 import Dataset\n",
    "import h5py\n",
    "\n",
    "plt.style.use('seaborn')"
   ]
  },
  {
   "cell_type": "code",
   "execution_count": 4,
   "id": "e2c50c42",
   "metadata": {},
   "outputs": [
    {
     "name": "stdout",
     "output_type": "stream",
     "text": [
      "Collecting apexpy\n",
      "  Using cached apexpy-2.0.1.tar.gz (328 kB)\n",
      "  Installing build dependencies: started\n",
      "  Installing build dependencies: still running...\n",
      "  Installing build dependencies: still running...\n",
      "  Installing build dependencies: still running...\n",
      "  Installing build dependencies: still running...\n",
      "  Installing build dependencies: finished with status 'done'\n",
      "  Getting requirements to build wheel: started\n",
      "  Getting requirements to build wheel: finished with status 'done'\n",
      "  Preparing metadata (pyproject.toml): started\n",
      "  Preparing metadata (pyproject.toml): finished with status 'error'\n"
     ]
    },
    {
     "name": "stderr",
     "output_type": "stream",
     "text": [
      "  error: subprocess-exited-with-error\n",
      "  \n",
      "  Preparing metadata (pyproject.toml) did not run successfully.\n",
      "  exit code: 1\n",
      "  \n",
      "  [21 lines of output]\n",
      "  + meson setup C:\\Users\\pkoll\\AppData\\Local\\Temp\\pip-install-_031fmr3\\apexpy_c9d834603d4c46a88d083c7cffaee7ff C:\\Users\\pkoll\\AppData\\Local\\Temp\\pip-install-_031fmr3\\apexpy_c9d834603d4c46a88d083c7cffaee7ff\\.mesonpy-e_c6jk8c\\build -Dbuildtype=release -Db_ndebug=if-release -Db_vscrt=md --native-file=C:\\Users\\pkoll\\AppData\\Local\\Temp\\pip-install-_031fmr3\\apexpy_c9d834603d4c46a88d083c7cffaee7ff\\.mesonpy-e_c6jk8c\\build\\meson-python-native-file.ini\n",
      "  The Meson build system\n",
      "  Version: 1.2.1\n",
      "  Source dir: C:\\Users\\pkoll\\AppData\\Local\\Temp\\pip-install-_031fmr3\\apexpy_c9d834603d4c46a88d083c7cffaee7ff\n",
      "  Build dir: C:\\Users\\pkoll\\AppData\\Local\\Temp\\pip-install-_031fmr3\\apexpy_c9d834603d4c46a88d083c7cffaee7ff\\.mesonpy-e_c6jk8c\\build\n",
      "  Build type: native build\n",
      "  Project name: apexpy\n",
      "  Project version: 2.0.1\n",
      "  WARNING: Failed to activate VS environment: Could not parse vswhere.exe output\n",
      "  \n",
      "  ..\\..\\meson.build:1:0: ERROR: Unknown compiler(s): [['icl'], ['cl'], ['cc'], ['gcc'], ['clang'], ['clang-cl'], ['pgcc']]\n",
      "  The following exception(s) were encountered:\n",
      "  Running `icl \"\"` gave \"[WinError 2] The system cannot find the file specified\"\n",
      "  Running `cl /?` gave \"[WinError 2] The system cannot find the file specified\"\n",
      "  Running `cc --version` gave \"[WinError 2] The system cannot find the file specified\"\n",
      "  Running `gcc --version` gave \"[WinError 2] The system cannot find the file specified\"\n",
      "  Running `clang --version` gave \"[WinError 2] The system cannot find the file specified\"\n",
      "  Running `clang-cl /?` gave \"[WinError 2] The system cannot find the file specified\"\n",
      "  Running `pgcc --version` gave \"[WinError 2] The system cannot find the file specified\"\n",
      "  \n",
      "  A full log can be found at C:\\Users\\pkoll\\AppData\\Local\\Temp\\pip-install-_031fmr3\\apexpy_c9d834603d4c46a88d083c7cffaee7ff\\.mesonpy-e_c6jk8c\\build\\meson-logs\\meson-log.txt\n",
      "  [end of output]\n",
      "  \n",
      "  note: This error originates from a subprocess, and is likely not a problem with pip.\n",
      "error: metadata-generation-failed\n",
      "\n",
      "Encountered error while generating package metadata.\n",
      "\n",
      "See above for output.\n",
      "\n",
      "note: This is an issue with the package mentioned above, not pip.\n",
      "hint: See above for details.\n"
     ]
    },
    {
     "name": "stdout",
     "output_type": "stream",
     "text": [
      "Collecting apexpyNote: you may need to restart the kernel to use updated packages.\n",
      "\n",
      "  Using cached apexpy-2.0.1.tar.gz (328 kB)\n",
      "  Installing build dependencies: started\n",
      "  Installing build dependencies: still running...\n",
      "  Installing build dependencies: still running...\n",
      "  Installing build dependencies: still running...\n",
      "  Installing build dependencies: still running...\n",
      "  Installing build dependencies: finished with status 'done'\n",
      "  Getting requirements to build wheel: started\n",
      "  Getting requirements to build wheel: finished with status 'done'\n",
      "  Preparing metadata (pyproject.toml): started\n",
      "  Preparing metadata (pyproject.toml): finished with status 'error'\n"
     ]
    },
    {
     "name": "stderr",
     "output_type": "stream",
     "text": [
      "  error: subprocess-exited-with-error\n",
      "  \n",
      "  Preparing metadata (pyproject.toml) did not run successfully.\n",
      "  exit code: 1\n",
      "  \n",
      "  [21 lines of output]\n",
      "  + meson setup C:\\Users\\pkoll\\AppData\\Local\\Temp\\pip-install-p5th1lgi\\apexpy_a5328f7af5b4485cb0c0c71985ef3618 C:\\Users\\pkoll\\AppData\\Local\\Temp\\pip-install-p5th1lgi\\apexpy_a5328f7af5b4485cb0c0c71985ef3618\\.mesonpy-314i4arn\\build -Dbuildtype=release -Db_ndebug=if-release -Db_vscrt=md --native-file=C:\\Users\\pkoll\\AppData\\Local\\Temp\\pip-install-p5th1lgi\\apexpy_a5328f7af5b4485cb0c0c71985ef3618\\.mesonpy-314i4arn\\build\\meson-python-native-file.ini\n",
      "  The Meson build system\n",
      "  Version: 1.2.1\n",
      "  Source dir: C:\\Users\\pkoll\\AppData\\Local\\Temp\\pip-install-p5th1lgi\\apexpy_a5328f7af5b4485cb0c0c71985ef3618\n",
      "  Build dir: C:\\Users\\pkoll\\AppData\\Local\\Temp\\pip-install-p5th1lgi\\apexpy_a5328f7af5b4485cb0c0c71985ef3618\\.mesonpy-314i4arn\\build\n",
      "  Build type: native build\n",
      "  Project name: apexpy\n",
      "  Project version: 2.0.1\n",
      "  WARNING: Failed to activate VS environment: Could not parse vswhere.exe output\n",
      "  \n",
      "  ..\\..\\meson.build:1:0: ERROR: Unknown compiler(s): [['icl'], ['cl'], ['cc'], ['gcc'], ['clang'], ['clang-cl'], ['pgcc']]\n",
      "  The following exception(s) were encountered:\n",
      "  Running `icl \"\"` gave \"[WinError 2] The system cannot find the file specified\"\n",
      "  Running `cl /?` gave \"[WinError 2] The system cannot find the file specified\"\n",
      "  Running `cc --version` gave \"[WinError 2] The system cannot find the file specified\"\n",
      "  Running `gcc --version` gave \"[WinError 2] The system cannot find the file specified\"\n",
      "  Running `clang --version` gave \"[WinError 2] The system cannot find the file specified\"\n",
      "  Running `clang-cl /?` gave \"[WinError 2] The system cannot find the file specified\"\n",
      "  Running `pgcc --version` gave \"[WinError 2] The system cannot find the file specified\"\n",
      "  \n",
      "  A full log can be found at C:\\Users\\pkoll\\AppData\\Local\\Temp\\pip-install-p5th1lgi\\apexpy_a5328f7af5b4485cb0c0c71985ef3618\\.mesonpy-314i4arn\\build\\meson-logs\\meson-log.txt\n",
      "  [end of output]\n",
      "  \n",
      "  note: This error originates from a subprocess, and is likely not a problem with pip.\n",
      "error: metadata-generation-failed\n",
      "\n",
      "Encountered error while generating package metadata.\n",
      "\n",
      "See above for output.\n",
      "\n",
      "note: This is an issue with the package mentioned above, not pip.\n",
      "hint: See above for details.\n"
     ]
    }
   ],
   "source": [
    "pip install apexpy"
   ]
  },
  {
   "cell_type": "code",
   "execution_count": 2,
   "id": "ea7bc215",
   "metadata": {},
   "outputs": [
    {
     "name": "stderr",
     "output_type": "stream",
     "text": [
      "C:\\Users\\pkoll\\anaconda3\\lib\\site-packages\\ecmwflibs\\__init__.py:83: UserWarning: DLL load failed while importing _ecmwflibs: The specified procedure could not be found.\n",
      "  warnings.warn(str(e))\n",
      "C:\\Users\\pkoll\\anaconda3\\lib\\site-packages\\xarray\\backends\\plugins.py:71: RuntimeWarning: Engine 'cfgrib' loading failed:\n",
      "Cannot find the ecCodes library\n",
      "  warnings.warn(f\"Engine {name!r} loading failed:\\n{ex}\", RuntimeWarning)\n"
     ]
    }
   ],
   "source": [
    "dsm  = xr.open_dataset('eqcross_mv05iv06_r00_mti_2021 (1).nc')\n",
    "dsi  = xr.open_dataset('eqcross_mv05iv06_r00_ivm_2021.nc')\n",
    "\n",
    "dsi = dsi.load()"
   ]
  },
  {
   "cell_type": "code",
   "execution_count": 3,
   "id": "608934e9",
   "metadata": {},
   "outputs": [],
   "source": [
    "dm0 = dsm[['u','v', 'q']].sel(dt=0).isel(alt=slice(2,-2)) # Only u, v variables, but also quality (q) variable for possible later filtering\n",
    "di0 = dsi[['drift_mer','slt', 'time', 'dm_flag', 'rpa_flag']].sel(dt=0) # only use drift_mer variable (but also save other variables for context: local time, actual time, IVM data quality flags)\n",
    "\n",
    "d = xr.merge((dm0, di0))\n",
    "d = d.dropna(dim='num', how='any', subset=['u','drift_mer']) # Drop missing data\n",
    "\n",
    "# Only keep later LTs and data where the ivm quality flag is good\n",
    "d = d.where((d.slt > 11) & (d.slt < 16) & (d.q.mean(dim='alt') > 0.95) & (d.dm_flag == 0) & (d.rpa_flag == 0), drop=True)\n"
   ]
  },
  {
   "cell_type": "code",
   "execution_count": null,
   "id": "f109726f",
   "metadata": {},
   "outputs": [],
   "source": [
    "apex = apexpy.Apex(date=2021, refh=80.)\n",
    "\n",
    "def add_mag_winds(ds, apex):\n",
    "    '''\n",
    "    Convert winds to modified apex coordinates.\n",
    "    Also add basis vectors and coordinates:\n",
    "        - Richmond d,e vectors\n",
    "        - Mod apex coordinates for the wind profile, for sanity checks\n",
    "   \n",
    "    ds = xarray.Dataset for the north or south footpoint.\n",
    "    apex = apexpy object\n",
    "    '''\n",
    "    # Careful with nans\n",
    "    lat = ds.lat.values\n",
    "    lon = ds.lon.values\n",
    "    alt = ds.alt.values\n",
    "    N = len(alt)\n",
    "    d1 = np.nan * np.zeros((3,N))\n",
    "    d2 = np.nan * np.zeros((3,N))\n",
    "    d3 = np.nan * np.zeros((3,N))\n",
    "    e1 = np.nan * np.zeros((3,N))\n",
    "    e2 = np.nan * np.zeros((3,N))\n",
    "    e3 = np.nan * np.zeros((3,N))\n",
    "   \n",
    "    # 2023 May 17 generalize to allow for either scalar lat/lon or altitude dependent\n",
    "    if np.ndim(lat) == 0:\n",
    "        lat = lat*np.ones_like(alt)\n",
    "        lon = lon*np.ones_like(alt)\n",
    "       \n",
    "    idx = np.isfinite(lat) & np.isfinite(lon)\n",
    "    if idx.sum() > 0: # If everything's nan, just let it stay nan\n",
    "        _, _, _, _, _, _, d1i, d2i, d3i, e1i, e2i, e3i = apex.basevectors_apex(lat[idx], lon[idx], height=alt[idx], coords='geo')\n",
    "        d1[:,idx] = d1i\n",
    "        d2[:,idx] = d2i\n",
    "        d3[:,idx] = d3i\n",
    "        e1[:,idx] = e1i\n",
    "        e2[:,idx] = e2i\n",
    "        e3[:,idx] = e3i\n",
    "   \n",
    "    ds['d1'] = (('alt','vec_enu'), d1.T)\n",
    "    ds['d2'] = (('alt','vec_enu'), d2.T)\n",
    "    ds['d3'] = (('alt','vec_enu'), d3.T)\n",
    "    ds['e1'] = (('alt','vec_enu'), e1.T)\n",
    "    ds['e2'] = (('alt','vec_enu'), e2.T)\n",
    "    ds['e3'] = (('alt','vec_enu'), e3.T)\n",
    "   \n",
    "    u = xr.concat((ds['u'], ds['v'], xr.zeros_like(ds['u'])), dim='vec_enu') # DataArray, wind vector, assuming zero vertical wind\n",
    "   \n",
    "    ds['ue1'] = (ds.d1 * u).sum(dim='vec_enu', min_count=3) # Dot product of wind vector and d1 vector, using enu coordinates. Preserve nans\n",
    "    ds['ue2'] = (ds.d2 * u).sum(dim='vec_enu', min_count=3)\n",
    "    ds['ue3'] = (ds.d3 * u).sum(dim='vec_enu', min_count=3)"
   ]
  }
 ],
 "metadata": {
  "kernelspec": {
   "display_name": "Python 3 (ipykernel)",
   "language": "python",
   "name": "python3"
  },
  "language_info": {
   "codemirror_mode": {
    "name": "ipython",
    "version": 3
   },
   "file_extension": ".py",
   "mimetype": "text/x-python",
   "name": "python",
   "nbconvert_exporter": "python",
   "pygments_lexer": "ipython3",
   "version": "3.10.9"
  }
 },
 "nbformat": 4,
 "nbformat_minor": 5
}
